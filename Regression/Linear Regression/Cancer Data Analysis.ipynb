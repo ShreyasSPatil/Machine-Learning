{
 "cells": [
  {
   "cell_type": "markdown",
   "metadata": {
    "collapsed": true,
    "pycharm": {
     "name": "#%% md\n"
    }
   },
   "source": [
    "# Cancer Data Analysis"
   ]
  },
  {
   "cell_type": "markdown",
   "source": [
    "## Introduction and Problem\n",
    "We will be using open data published by US federal government available on National Cancer Institute (cancer.gov), Centers of Disease Control and Prevention (cdc.gov), Census American Community Survey (census.gov) and United States National Library of Medicaine (clinicaltrials.gov) to predict cancer mortality rates for US counties and to examine whether low income groups are at greater risk for being diagnosed and dying of cancer. We can find the cancer incidence and mortality data cancer.gov and other additional variables from census.gov, cdc.gov and clinicaltrials.gov."
   ],
   "metadata": {
    "collapsed": false,
    "pycharm": {
     "name": "#%% md\n"
    }
   }
  },
  {
   "cell_type": "markdown",
   "source": [
    "## Strategy\n",
    "### Goals\n",
    "### Objectives"
   ],
   "metadata": {
    "collapsed": false,
    "pycharm": {
     "name": "#%% md\n"
    }
   }
  }
 ],
 "metadata": {
  "kernelspec": {
   "display_name": "Python 3",
   "language": "python",
   "name": "python3"
  },
  "language_info": {
   "codemirror_mode": {
    "name": "ipython",
    "version": 2
   },
   "file_extension": ".py",
   "mimetype": "text/x-python",
   "name": "python",
   "nbconvert_exporter": "python",
   "pygments_lexer": "ipython2",
   "version": "2.7.6"
  },
  "pycharm": {
   "stem_cell": {
    "cell_type": "raw",
    "source": [],
    "metadata": {
     "collapsed": false
    }
   }
  }
 },
 "nbformat": 4,
 "nbformat_minor": 0
}